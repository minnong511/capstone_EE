{
 "cells": [
  {
   "cell_type": "markdown",
   "metadata": {},
   "source": [
    "# 프로젝트 정리 "
   ]
  },
  {
   "cell_type": "markdown",
   "metadata": {},
   "source": [
    "## 코드 정리 \n",
    "\n",
    "#  개발 분야 \n",
    "\n",
    "- 하드웨어\n",
    "    - 입력단 (ESP32, MEMS 마이크)\n",
    "    - 서버 연결\n",
    "- 소프트웨어\n",
    "    - 알림 분류 알고리즘 \n",
    "        - 중복처리 알고리즘\n",
    "        - 알림 전송 알고리즘\n",
    "- 딥러닝\n",
    "    - 데이터셋 구축 \n",
    "    - 딥러닝 모델 선정 및 구축\n",
    "    - 딥러닝 모델 학습 \n",
    "\n",
    "\n",
    "# 프로젝트 개발 계획 \n",
    "\n",
    "-  4월  \n",
    "    - 데이터셋 구축 \n",
    "        - 4월 2~3주차에 전처리 및 라벨링을 전부 끝낼 예정 \n",
    "            - 클래스를 몇 개로 분류하는가에 대해ㅓ\n",
    "        - 음성 데이터셋 폴더 만들기 \n",
    "        - 전부 다운받기 \n",
    "        - 규격에 맞게 전처리 (진폭, 진동수, 용량)\n",
    "        - 딥러닝 모델 입력에 맞게 전처리까지 완료하는 게 목표\n",
    "    - 딥러닝 학습 \n",
    "        - 4월 4주차 전처리 데이터를 기반으로 학습을 진행할 예정 \n",
    "        - 학습이 완료되면 Test 데이터들을 통해서 테스트를 진행할 예정\n",
    "            - Test가 잘 진행되는지에 대해서 분석해야 한다. \n",
    "            - 정확도 기준은 어떻게? \n",
    "                - 이 기준에 대해서도 정의를 잘 정의하고 넘어가야 한다. \n",
    "        - 정확도 평가가 완료되면 추론 모델 추출해서, 모델을 이식해야 한다. \n",
    "            - 이식이 잘 안되면, 컴퓨터라도 써서 추론해야 할 듯. \n",
    "            - 추론을 어떻게 할 지에 대해서 잘 생각해봐야 한다. \n",
    "-  5월 \n",
    "    - 마이크 및 서버 구매 \n",
    "        - 마이크를 몇 개 주문? \n",
    "        - 어떤 보드를 사용할 거야?\n",
    "        - 어떤 서버를 사용할 거야?\n",
    "    - 하드웨어 조립 및 연결 \n",
    "        - 마이크 - 보드 - 서버간의 연결 필요 \n",
    "\n",
    "        -------\n",
    "        - 마이크 - 보드 \n",
    "            - 음성 데이터가 잘 들어오는지 확인해야 함 \n",
    "            - 음성 데이터가 실시간으로 잘 감지되고 있는지 확인해야 함 \n",
    "        - 보드 - 서버 \n",
    "            - 보드와 서버간의 데이터 통신이 잘 되고 있는지 확인해야한다 .\n",
    "            - 보드와 서버간의 연결이 제대로 되었다면, 데이터를 실제로 넘기고, 누락없이 잘 연결되는지 확인해야 한다. \n",
    "        -------\n",
    "        - 서버 - 딥러닝 모델 추론 \n",
    "            - 모델이 데이터를 받아들이고, 제대로 추론하는지에 관해서 확인해야 한다.\n",
    "            - 추론된 결과를 어떤 키워드로 추출할 지에 대해서도 알아야 한다. \n",
    "            - 아웃풋이\n"
   ]
  },
  {
   "cell_type": "markdown",
   "metadata": {},
   "source": [
    "# ------------- 아키텍쳐 ----------------"
   ]
  },
  {
   "cell_type": "markdown",
   "metadata": {},
   "source": [
    "# 하드웨어"
   ]
  },
  {
   "cell_type": "markdown",
   "metadata": {},
   "source": [
    "# 모델"
   ]
  },
  {
   "cell_type": "markdown",
   "metadata": {},
   "source": [
    "## 모델 - 모델 생성 \n",
    "\n",
    "- 모델 PANNsCNN10 \n",
    "    - Pretrained Model 사용 \n",
    "- 모델 input : 1024 \n",
    "- 모델 output : embedding\n",
    "\n",
    "\n",
    "- 전이학습 모델 \n",
    "\n",
    "    - 모델 input : PANNsCNN10\n",
    "    - 모델 output : 클래스 분류 및 방 번호 \n",
    "    - FCN Layer 사용 \n",
    "    - Num_classes : 15개 \n",
    "        - 들어야 할 소리 : 8개 \n",
    "        - 들지 말아야 할 소리 : 7개 \n",
    "    - "
   ]
  },
  {
   "cell_type": "markdown",
   "metadata": {},
   "source": [
    "## 모델 - 클래스 분류기 \n",
    "\n",
    "데이터셋 클래스 정의 \n",
    "\n",
    "일단은 Sound Classification 을 먼저하는 게 목표 \n",
    "역할 : 입력된 소리가 무엇인지 분류하기 \n",
    "\n",
    "- 들어야 할 소리 \n",
    "    - person_calling\n",
    "    - baby_calling\n",
    "    - phone_ringing\n",
    "    - gas_alarm \n",
    "    - fire_alarm \n",
    "    - doorbell\n",
    "    - knocking \n",
    "    - strong_wind \n",
    "\n",
    "- 듣지 말아야할 소리 \n",
    "    - human_voice_misc \n",
    "    - snooring \n",
    "    - home_appliance \n",
    "    - vaccum_cleaner \n",
    "    - door_movement \n",
    "    - tv_sound \n",
    "    - musical_instrument "
   ]
  },
  {
   "cell_type": "markdown",
   "metadata": {},
   "source": [
    "# 알림 분류기 및 알림 전송부 "
   ]
  },
  {
   "cell_type": "markdown",
   "metadata": {},
   "source": [
    "## 알림 분류기 "
   ]
  },
  {
   "cell_type": "markdown",
   "metadata": {},
   "source": [
    "## 알림 전송부 "
   ]
  },
  {
   "cell_type": "markdown",
   "metadata": {},
   "source": [
    "# 실행코드 \n",
    "\n",
    "### 라이브러리 로딩 및 모델 \n",
    "- 라이브러리 로딩\n",
    "- device 설정 (CUDA)\n",
    "\n",
    "### 데이터 전처리 \n",
    "\n",
    "1. 모델 준비 \n",
    "2. DataLoader 준비 (루트 디렉토리 설정)\n",
    "    1. 배치 사이즈 , 임베딩 추출 \n",
    "3. 학습 루프 설정 \n",
    "\n",
    "### 전이 학습 \n",
    "\n",
    "1. 전이 학습 모델 설정\n",
    "    - input dimension 1024\n",
    "    - num_classes = len(dataset)\n",
    "2. Output :  15개의 클래스를 학습함\n",
    "    - MLSE로 평가 \n",
    "\n",
    "### 모델 추론 \n",
    "\n",
    "1. 데이터 인풋 (음성 데이터, 방 번호)\n",
    "    - 여기서 음성 데이터는 모델로 들어가고 \n",
    "    - 방 번호는 그대로 Pass 함 \n",
    "2. 출력 \n",
    "    - 모델 클래스 \n",
    "    - 방 번호 \n",
    "\n",
    "### 알림 전송 \n",
    "1. 알림 전송을 어떻게 하냐? \n",
    "2. 분류 결과를 매번 전송?\n",
    "    1. naive하게는 이게 제일 간단하기는 함~\n",
    "3. 그래서 알림 분류기까지의 구조는 이와 같음 \n"
   ]
  }
 ],
 "metadata": {
  "kernelspec": {
   "display_name": "base",
   "language": "python",
   "name": "python3"
  },
  "language_info": {
   "name": "python",
   "version": "3.12.7"
  }
 },
 "nbformat": 4,
 "nbformat_minor": 2
}
