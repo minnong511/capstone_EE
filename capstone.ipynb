{
 "cells": [
  {
   "cell_type": "markdown",
   "metadata": {},
   "source": [
    "# 프로젝트 정리 "
   ]
  },
  {
   "cell_type": "markdown",
   "metadata": {},
   "source": [
    "## 코드 정리 \n",
    "\n",
    "#  개발 분야 \n",
    "\n",
    "- 하드웨어\n",
    "    - 입력단 (ESP32, MEMS 마이크)\n",
    "    - 서버 연결\n",
    "- 소프트웨어\n",
    "    - 알림 분류 알고리즘 \n",
    "        - 중복처리 알고리즘\n",
    "        - 알림 전송 알고리즘\n",
    "- 딥러닝\n",
    "    - 데이터셋 구축 \n",
    "    - 딥러닝 모델 선정 및 구축\n",
    "    - 딥러닝 모델 학습 \n",
    "\n",
    "\n",
    "# 프로젝트 개발 계획 \n",
    "\n",
    "-  4월  \n",
    "    - 데이터셋 구축 \n",
    "        - 4월 2~3주차에 전처리 및 라벨링을 전부 끝낼 예정 \n",
    "            - 클래스를 몇 개로 분류하는가에 대해ㅓ\n",
    "        - 음성 데이터셋 폴더 만들기 \n",
    "        - 전부 다운받기 \n",
    "        - 규격에 맞게 전처리 (진폭, 진동수, 용량)\n",
    "        - 딥러닝 모델 입력에 맞게 전처리까지 완료하는 게 목표\n",
    "    - 딥러닝 학습 \n",
    "        - 4월 4주차 전처리 데이터를 기반으로 학습을 진행할 예정 \n",
    "        - 학습이 완료되면 Test 데이터들을 통해서 테스트를 진행할 예정\n",
    "            - Test가 잘 진행되는지에 대해서 분석해야 한다. \n",
    "            - 정확도 기준은 어떻게? \n",
    "                - 이 기준에 대해서도 정의를 잘 정의하고 넘어가야 한다. \n",
    "        - 정확도 평가가 완료되면 추론 모델 추출해서, 모델을 이식해야 한다. \n",
    "            - 이식이 잘 안되면, 컴퓨터라도 써서 추론해야 할 듯. \n",
    "            - 추론을 어떻게 할 지에 대해서 잘 생각해봐야 한다. \n",
    "-  5월 \n",
    "    - 마이크 및 서버 구매 \n",
    "        - 마이크를 몇 개 주문? \n",
    "        - 어떤 보드를 사용할 거야?\n",
    "        - 어떤 서버를 사용할 거야?\n",
    "    - 하드웨어 조립 및 연결 \n",
    "        - 마이크 - 보드 - 서버간의 연결 필요 \n",
    "\n",
    "        -------\n",
    "        - 마이크 - 보드 \n",
    "            - 음성 데이터가 잘 들어오는지 확인해야 함 \n",
    "            - 음성 데이터가 실시간으로 잘 감지되고 있는지 확인해야 함 \n",
    "        - 보드 - 서버 \n",
    "            - 보드와 서버간의 데이터 통신이 잘 되고 있는지 확인해야한다 .\n",
    "            - 보드와 서버간의 연결이 제대로 되었다면, 데이터를 실제로 넘기고, 누락없이 잘 연결되는지 확인해야 한다. \n",
    "        -------\n",
    "        - 서버 - 딥러닝 모델 추론 \n",
    "            - 모델이 데이터를 받아들이고, 제대로 추론하는지에 관해서 확인해야 한다.\n",
    "            - 추론된 결과를 어떤 키워드로 추출할 지에 대해서도 알아야 한다. \n",
    "            - 아웃풋이\n"
   ]
  },
  {
   "cell_type": "markdown",
   "metadata": {},
   "source": [
    "# ------------- 아키텍쳐 ----------------"
   ]
  },
  {
   "cell_type": "markdown",
   "metadata": {},
   "source": [
    "# 하드웨어"
   ]
  },
  {
   "cell_type": "markdown",
   "metadata": {},
   "source": [
    "# 모델"
   ]
  },
  {
   "cell_type": "markdown",
   "metadata": {},
   "source": [
    "## 데이터 전처리 \n",
    "\n",
    "### 데이터 전처리 \n",
    "\n",
    "- 아기울음 데이터셋\n",
    "- https://data.mendeley.com/datasets/hbppd883sd/1\n",
    "- https://github.com/SaintHazard/baby-crying?utm_source=chatgpt.com\n",
    "- https://www.kaggle.com/datasets/mennaahmed23/baby-crying-sounds-datasets\n",
    "\n",
    "- 초인종 소리 \n",
    "- https://zenodo.org/records/3668503?utm_source=chatgpt.com\n",
    "\n",
    "- 가전제품 작동 완료 소리 \n",
    "- https://github.com/Yuan-ManX/ai-audio-datasets?utm_source=chatgpt.com\n",
    "\n",
    "- 화재 경보 \n",
    "- https://annotator.freesound.org/fsd/explore/%252Fm%252F0c3f7m/?utm_source=chatgpt.com\n",
    "\n",
    "- \n",
    "\n",
    "1. 폴더 읽기 \n",
    "    1. 각 폴더에 음성 데이터가 들어있음 \n",
    "2. 오디오 전처리\n",
    "    1. 스테레오 -> 모노 \n",
    "    2. 32000Hz로 변환 \n",
    "3. 임베딩 추출 및 레이블 생성\n",
    "    1. 모델에 넣어서 임배딩 추출 \n",
    "    2. 레이블 추출 \n",
    "\n",
    "4. Dataloader 생성 ->\n",
    "    1. batch_size = 16 \n",
    "    2. (batch_size, embedding_size), (정답 레이블)\n",
    "\n"
   ]
  },
  {
   "cell_type": "markdown",
   "metadata": {},
   "source": [
    "## 모델 - 모델 생성 \n",
    "\n",
    "- 모델 PANNsCNN10 \n",
    "    - Pretrained Model 사용 \n",
    "- 모델 input : file, input_dim = 1024 \n",
    "- 모델 output : embedding\n",
    "\n",
    "\n",
    "- 전이학습 모델 \n",
    "\n",
    "    - 모델 input : PANNsCNN10\n",
    "    - 모델 output : 클래스 분류 및 방 번호 \n",
    "    - FCN Layer 사용 \n",
    "    - Num_classes : 15개 \n",
    "        - 들어야 할 소리 : 8개 \n",
    "        - 들지 말아야 할 소리 : 7개 "
   ]
  },
  {
   "cell_type": "markdown",
   "metadata": {},
   "source": [
    "## 모델 - 클래스 분류기 \n",
    "\n",
    "데이터셋 클래스 정의 \n",
    "\n",
    "일단은 Sound Classification 을 먼저하는 게 목표 \n",
    "역할 : 입력된 소리가 무엇인지 분류하기 \n",
    "\n",
    "- 들어야 할 소리 \n",
    "    - person_calling\n",
    "    - baby_calling\n",
    "    - phone_ringing\n",
    "    - gas_alarm \n",
    "    - fire_alarm \n",
    "    - doorbell\n",
    "    - knocking \n",
    "    - strong_wind \n",
    "\n",
    "- 듣지 말아야할 소리 \n",
    "    - human_voice_misc \n",
    "    - snooring \n",
    "    - home_appliance \n",
    "    - vaccum_cleaner \n",
    "    - door_movement \n",
    "    - tv_sound \n",
    "    - musical_instrument \n",
    "\n",
    "\n",
    "- 정수 인덱스 변환 \n"
   ]
  },
  {
   "cell_type": "code",
   "execution_count": 5,
   "metadata": {},
   "outputs": [],
   "source": [
    "label_dict = {\n",
    "    'person_calling': 0,\n",
    "    'baby_calling': 1,\n",
    "    'phone_ringing': 2,\n",
    "    'gas_alarm': 3,\n",
    "    'fire_alarm': 4,\n",
    "    'doorbell': 5,\n",
    "    'knocking': 6,\n",
    "    'strong_wind': 7,\n",
    "    'human_voice_misc': 8,\n",
    "    'snooring': 9,\n",
    "    'home_appliance': 10,\n",
    "    'vaccum_cleaner': 11,\n",
    "    'door_movement': 12,\n",
    "    'tv_sound': 13,\n",
    "    'musical_instrument': 14,\n",
    "}"
   ]
  },
  {
   "cell_type": "markdown",
   "metadata": {},
   "source": [
    "# 알림 분류기 및 알림 전송부 \n",
    "\n",
    "알림 분류기 및 알림 전송부 \n",
    "\n",
    "사용 전송 전 부분 (SQLite) , \n",
    "\n",
    "1. 딥러닝 모델(데이터 넘어와) - 기능능\n",
    "저장을 해야해 \n",
    "\n",
    "2. 저장소에서 데이터 끌어오기  - 기능능\n",
    "\n",
    "3. 분류 알고리즘을 작성하고 - 기능능\n",
    "3.1 저번에 표를 만들어놓은 걸로 구현 \n",
    "\n",
    "4. 알림 전송 시스템 - 4\n",
    "\n",
    "5. 실시간으로 돌릴 수 있게 작동 \n",
    "5.1 기능 1번 돌리기\n",
    "5.2 기능 2번 돌리기 \n",
    "5.3 기능 3 돌리기기\n",
    "5.4 기능 4 돌리기"
   ]
  },
  {
   "cell_type": "markdown",
   "metadata": {},
   "source": [
    "## 알림 분류기 "
   ]
  },
  {
   "cell_type": "markdown",
   "metadata": {},
   "source": [
    "## 알림 전송부 "
   ]
  },
  {
   "cell_type": "markdown",
   "metadata": {},
   "source": [
    "# 실행코드 \n",
    "\n",
    "### 라이브러리 로딩 및 모델 \n",
    "- 라이브러리 로딩\n",
    "- device 설정 (CUDA)\n",
    "\n",
    "### 데이터 전처리 \n",
    "\n",
    "1. 모델 준비 \n",
    "2. DataLoader 준비 (루트 디렉토리 설정)\n",
    "    1. 배치 사이즈 , 임베딩 추출 \n",
    "3. 학습 루프 설정 \n",
    "\n",
    "### 전이 학습 \n",
    "\n",
    "1. 전이 학습 모델 설정\n",
    "    - input dimension 1024\n",
    "    - num_classes = len(dataset)\n",
    "2. Output :  15개의 클래스를 학습함\n",
    "    - MLSE로 평가 \n",
    "\n",
    "### 모델 추론 \n",
    "\n",
    "1. 데이터 인풋 (음성 데이터, 방 번호)\n",
    "    - 여기서 음성 데이터는 모델로 들어가고 \n",
    "    - 방 번호는 그대로 Pass 함 \n",
    "2. 출력 \n",
    "    - 모델 클래스 \n",
    "    - 방 번호 \n",
    "\n",
    "### 알림 전송 \n",
    "1. 알림 전송을 어떻게 하냐? \n",
    "2. 분류 결과를 매번 전송?\n",
    "    1. naive하게는 이게 제일 간단하기는 함~\n",
    "3. 그래서 알림 분류기까지의 구조는 이와 같음 \n"
   ]
  },
  {
   "cell_type": "code",
   "execution_count": 4,
   "metadata": {},
   "outputs": [],
   "source": [
    "# 데이터 인풋은 하나만 들어가게 될 것.  \n",
    "\n",
    "# Validation Set으로 데이터셋을 평가해야 함. -> 범용성 있는 확인해야 한다. \n",
    "# 여기서는 음성 데이터, 방 번호가 들어가게 되는데, 음성 데이터만 추론 모델에 들어가게 되고, 방 번호는 그대로 통과해서 출력 레이블에 그대로 붙게 될 것임.\n",
    "\n",
    "# result = infer_audio(\n",
    "#     filepath=\"./inputs/dog_bark.wav\",\n",
    "#     room_id=1,\n",
    "#     panns_model=panns,\n",
    "#     classifier_model=classifier,\n",
    "#     label_dict=label_dict,\n",
    "#     device=device\n",
    "# )\n",
    "\n",
    "# 👇 출력 결과 딕셔너리 활용\n",
    "# {'room_id': 1, 'predicted_class': 'dog_bark'}\n"
   ]
  },
  {
   "cell_type": "markdown",
   "metadata": {},
   "source": [
    "# 실시간 처리\n",
    "\n",
    "### 실시간 처리에 대한 고려사항 \n",
    "\n",
    "- 파일을 실시간으로 저장해야 함 \n",
    "- 아닌가 파일이 전송될 때마다 추론을 돌리게 낫나? \n",
    "- 루프로 돌려야 하야 하나? \n",
    "- 주기적으로 루프를 돌려야 하면 했음 \n",
    "- 그러면 모델 학습을 미리 돌리고, 추론을 루프에서 돌리고 넘어가자 "
   ]
  }
 ],
 "metadata": {
  "kernelspec": {
   "display_name": "base",
   "language": "python",
   "name": "python3"
  },
  "language_info": {
   "codemirror_mode": {
    "name": "ipython",
    "version": 3
   },
   "file_extension": ".py",
   "mimetype": "text/x-python",
   "name": "python",
   "nbconvert_exporter": "python",
   "pygments_lexer": "ipython3",
   "version": "3.12.7"
  }
 },
 "nbformat": 4,
 "nbformat_minor": 2
}
