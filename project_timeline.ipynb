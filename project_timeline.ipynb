{
 "cells": [
  {
   "cell_type": "markdown",
   "metadata": {},
   "source": [
    "# 4월 개발일지 \n",
    "\n",
    "## 4월 2주차 ### \n",
    "- 모델 선정\n",
    "    - PANNsCNN10 \n",
    "- 선정 이유 \n",
    "    - 경량 모델 및 파이토치 모델을 사용하기 위함\n",
    "\n",
    "- 2025년 4월 13일 개발일지  \n",
    "    - 모델 설치 및 구동 테스트 \n",
    "        - 일단은 홈 컴퓨터에서 구동 성공 \n",
    "    - 모델 데이터 전처리 설계 \n",
    "        - 여러 개의 데이터를 받아서 학습하는 것이 목표 \n",
    "\n",
    "### 일단 데이터 전처리 예시 구조 \n",
    "\n",
    "    your_dataset/\n",
    "├── dog_bark/\n",
    "│   ├── a.wav\n",
    "│   └── b.wav\n",
    "├── baby_cry/\n",
    "│   ├── c.wav\n",
    "│   └── d.wav\n",
    "├── fire_alarm/\n",
    "│   └── e.wav\n",
    "\n",
    "이런 폴더 구조를 가진다고 했을 때,\n",
    "- 폴더 이름을 Label이 될 것임\n",
    "- 모든 .wav 파일을 자동으로 불러온다. \n",
    "- 자동으로 불러온 파일들은 모델로 들어간다. \n",
    "- 처리된 데이터를 PaNNs 로 임베딩을 추출함\n",
    "- (embedding, label) 데이터 만들어서 Dataloader로 학습할 거임 \n",
    "- 신경망은 그리 복잡하지 않을 것임. "
   ]
  },
  {
   "cell_type": "markdown",
   "metadata": {},
   "source": [
    "## 4월 14일 개발일지 \n",
    "\n",
    "- 모델 전처리 \n",
    "- 모델 학습 부분\n",
    "- 모델 추론 \n",
    "\n",
    "모델 있는 부분까지 만듬, 내일은 직접 돌려봐야 할 듯? \n",
    "\n",
    "모델 돌려보고 "
   ]
  },
  {
   "cell_type": "markdown",
   "metadata": {},
   "source": [
    "## 4월 21일 저녁 \n",
    "\n",
    "데이터셋 클래스 정의 \n",
    "\n",
    "일단은 Sound Classification 을 먼저하는 게 목표 \n",
    "역할 : 입력된 소리가 무엇인지 분류하기 \n",
    "\n",
    "- 들어야 할 소리 \n",
    "    - person_calling\n",
    "    - baby_calling\n",
    "    - phone_ringing\n",
    "    - gas_alarm \n",
    "    - fire_alarm \n",
    "    - doorbell\n",
    "    - knocking \n",
    "    - strong_wind \n",
    "\n",
    "- 듣지 말아야할 소리 \n",
    "    - human_voice_misc \n",
    "    - snooring \n",
    "    - home_appliance \n",
    "    - vaccum_cleaner \n",
    "    - door_movement \n",
    "    - tv_sound \n",
    "    - musical_instrument \n",
    "\n"
   ]
  },
  {
   "cell_type": "markdown",
   "metadata": {},
   "source": [
    "# 4월 30일\n",
    "\n",
    "학습 코드 및 추론 코드 작성\n",
    "\n",
    "학습 코드 : 학습이 잘 되는 중 \n",
    "\n",
    "추론 코드 : (추론한 거, 방 번호, 날짜, 시간) 잘 출력됨 \n",
    "\n",
    "일단 베이스 모델은 완성했고, SQL로 데이터로 저장하고, 실시간으로 데이터 처리하는 부분 구현해야 함. \n"
   ]
  },
  {
   "cell_type": "markdown",
   "metadata": {},
   "source": [
    "# 5월 1일 \n",
    "\n",
    "### 실시간 데이터 처리 \n",
    "[ESP32] --(WAV 또는 PCM stream)--> [WebSocket 서버 (Python)] --(inference)--> [알림 or DB 저장]"
   ]
  }
 ],
 "metadata": {
  "kernelspec": {
   "display_name": "base",
   "language": "python",
   "name": "python3"
  },
  "language_info": {
   "codemirror_mode": {
    "name": "ipython",
    "version": 3
   },
   "file_extension": ".py",
   "mimetype": "text/x-python",
   "name": "python",
   "nbconvert_exporter": "python",
   "pygments_lexer": "ipython3",
   "version": "3.12.7"
  }
 },
 "nbformat": 4,
 "nbformat_minor": 2
}
