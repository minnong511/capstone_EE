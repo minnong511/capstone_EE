{
 "cells": [
  {
   "cell_type": "markdown",
   "metadata": {},
   "source": [
    "# 4월 개발일지 \n",
    "\n",
    "## 4월 2주차 ### \n",
    "- 모델 선정\n",
    "    - PANNsCNN10 \n",
    "- 선정 이유 \n",
    "    - 경량 모델 및 파이토치 모델을 사용하기 위함\n",
    "\n",
    "- 2025년 4월 13일 개발일지  \n",
    "    - 모델 설치 및 구동 테스트 \n",
    "        - 일단은 홈 컴퓨터에서 구동 성공 \n",
    "    - 모델 데이터 전처리 설계 \n",
    "        - 여러 개의 데이터를 받아서 학습하는 것이 목표 \n",
    "\n",
    "### 일단 데이터 전처리 예시 구조 \n",
    "\n",
    "    your_dataset/\n",
    "├── dog_bark/\n",
    "│   ├── a.wav\n",
    "│   └── b.wav\n",
    "├── baby_cry/\n",
    "│   ├── c.wav\n",
    "│   └── d.wav\n",
    "├── fire_alarm/\n",
    "│   └── e.wav\n",
    "\n",
    "이런 폴더 구조를 가진다고 했을 때,\n",
    "- 폴더 이름을 Label이 될 것임\n",
    "- 모든 .wav 파일을 자동으로 불러온다. \n",
    "- 자동으로 불러온 파일들은 모델로 들어간다. \n",
    "- 처리된 데이터를 PaNNs 로 임베딩을 추출함\n",
    "- (embedding, label) 데이터 만들어서 Dataloader로 학습할 거임 \n",
    "- 신경망은 그리 복잡하지 않을 것임. "
   ]
  },
  {
   "cell_type": "markdown",
   "metadata": {},
   "source": [
    "## 4월 14일 개발일지 \n",
    "\n",
    "- 모델 전처리 \n",
    "- 모델 학습 부분\n",
    "- 모델 추론 \n",
    "\n",
    "모델 있는 부분까지 만듬, 내일은 직접 돌려봐야 할 듯? \n",
    "\n",
    "모델 돌려보고 "
   ]
  },
  {
   "cell_type": "markdown",
   "metadata": {},
   "source": [
    "## 4월 21일 저녁 \n",
    "\n",
    "데이터셋 클래스 정의 \n",
    "\n",
    "일단은 Sound Classification 을 먼저하는 게 목표 \n",
    "역할 : 입력된 소리가 무엇인지 분류하기 \n",
    "\n",
    "- 들어야 할 소리 \n",
    "    - person_calling\n",
    "    - baby_calling\n",
    "    - phone_ringing\n",
    "    - gas_alarm \n",
    "    - fire_alarm \n",
    "    - doorbell\n",
    "    - knocking \n",
    "    - strong_wind \n",
    "\n",
    "- 듣지 말아야할 소리 \n",
    "    - human_voice_misc \n",
    "    - snooring \n",
    "    - home_appliance \n",
    "    - vaccum_cleaner \n",
    "    - door_movement \n",
    "    - tv_sound \n",
    "    - musical_instrument \n",
    "\n"
   ]
  },
  {
   "cell_type": "markdown",
   "metadata": {},
   "source": [
    "# 4월 30일\n",
    "\n",
    "학습 코드 및 추론 코드 작성\n",
    "\n",
    "학습 코드 : 학습이 잘 되는 중 \n",
    "\n",
    "추론 코드 : (추론한 거, 방 번호, 날짜, 시간) 잘 출력됨 \n",
    "\n",
    "일단 베이스 모델은 완성했고, SQL로 데이터로 저장하고, 실시간으로 데이터 처리하는 부분 구현해야 함. \n"
   ]
  },
  {
   "cell_type": "markdown",
   "metadata": {},
   "source": [
    "# 5월 1일 \n",
    "\n",
    "### 실시간 데이터 처리 설계\n",
    "[ESP32] --(WAV 또는 PCM stream)--> [WebSocket 서버 (Python)] --(inference)--> [알림 or DB 저장]"
   ]
  },
  {
   "cell_type": "markdown",
   "metadata": {},
   "source": [
    "# 5월 2일 \n",
    "\n",
    "### 실시간 데이터 처리 구현 \n",
    "\n",
    "- main.py에서 실시간으로 파일 최상단을 읽어야 함. \n",
    "- 주기적으로 폴더를 읽고,이미 처리한 파일은 건너뛰고, 새 파일은 추론할 수 있게 만들어야 함. \n",
    "\n",
    "### 노드 시뮬레이터 개발 구현 완료 \n",
    "\n",
    "- 당장 구현이 안되므로, 일단 코드로 파일 전송되는 것처럼 구현했음 \n",
    "- 테스트 데이터 셋에서 파일을 읽어오고, 실제로 저장되는 것처럼 구현 "
   ]
  },
  {
   "cell_type": "markdown",
   "metadata": {},
   "source": [
    "# 5월 5일\n",
    "\n",
    "### 알림 알고리즘이 읽을 수 있게 SQL 테이블에 데이터 저장하는 거 구현 "
   ]
  },
  {
   "cell_type": "markdown",
   "metadata": {
    "vscode": {
     "languageId": "plaintext"
    }
   },
   "source": [
    "# 5월 6일 \n",
    "\n",
    "### DB 연결 구현해야 함 \n",
    "\n",
    "-  데이터 처리는 잘 되고 있는데, DB에 저장되는지는 확인해야 할듯  \n",
    "- 병렬 처리 \n",
    "\n",
    "### Beamforming 구상 \n",
    "- 마이크 3개로 구현하면 될라나?\n",
    "- 각각의 위치 정보를 기반으로 대략적인 위치를 예측할 수 있을라나? \n"
   ]
  },
  {
   "cell_type": "markdown",
   "metadata": {},
   "source": [
    "# 5월 7일 \n",
    "\n",
    "- 병렬 데이터처리 구현 완료 \n",
    "- db 저장 구현 필요 "
   ]
  },
  {
   "cell_type": "markdown",
   "metadata": {},
   "source": [
    "# 5월 12일 \n",
    "\n",
    "- 데이터셋 전처리 시작\n",
    "    - 파괴된 파일 복구\n",
    "- 학습 시작 \n",
    "    - 학습 완료\n",
    "    "
   ]
  },
  {
   "cell_type": "markdown",
   "metadata": {},
   "source": [
    "# 5월 13일\n",
    "\n",
    "- 데이터베이스와 알림 시스템 연동 필요 \n",
    "- 연동 후 알림하는 거 연결 필요 "
   ]
  },
  {
   "cell_type": "markdown",
   "metadata": {},
   "source": [
    "# 5월 14일 \n",
    "\n",
    "- 데이터 학습 완료 \n",
    "- 데이터베이스 연동 \n",
    "- 데이터 시각화 \n",
    "    - 맵으로 표현 \n",
    "\n",
    "- 공학적 방향성에 대해서 다시 생각해야 할듯 "
   ]
  },
  {
   "cell_type": "markdown",
   "metadata": {},
   "source": [
    "# 5월 16일\n",
    "\n",
    "- 데이터베이스 검증해야하고\n",
    "- 알림 시스템도 약간 손보고\n",
    "- 데이터 시각화도 좀 손봐야 할 듯. "
   ]
  },
  {
   "cell_type": "markdown",
   "metadata": {},
   "source": [
    "# 5월 18일 \n",
    "\n",
    "- 중간 발표 준비로 대체 \n",
    "- 그동안 한 코드 다시 살펴보면서 오류가 없는 지 잘 체크 \n"
   ]
  },
  {
   "cell_type": "markdown",
   "metadata": {},
   "source": [
    "# 5월 23일 \n",
    "\n",
    "## 알림 시스템 개발 시작 \n",
    "### 1. 백엔드\n",
    "    Flask \n",
    "### 2. DB 연동\n",
    "    SQLite \n",
    "### 3. 프론트엔드\n",
    "    HTML/CSS/JavaScript"
   ]
  }
 ],
 "metadata": {
  "kernelspec": {
   "display_name": "base",
   "language": "python",
   "name": "python3"
  },
  "language_info": {
   "codemirror_mode": {
    "name": "ipython",
    "version": 3
   },
   "file_extension": ".py",
   "mimetype": "text/x-python",
   "name": "python",
   "nbconvert_exporter": "python",
   "pygments_lexer": "ipython3",
   "version": "3.12.7"
  }
 },
 "nbformat": 4,
 "nbformat_minor": 2
}
